{
 "cells": [
  {
   "cell_type": "code",
   "execution_count": 1,
   "metadata": {},
   "outputs": [
    {
     "name": "stdout",
     "output_type": "stream",
     "text": [
      "Populating the interactive namespace from numpy and matplotlib\n"
     ]
    }
   ],
   "source": [
    "%pylab inline\n",
    "\n",
    "import warnings\n",
    "warnings.filterwarnings('ignore')\n",
    "\n",
    "import torch\n",
    "from torch import nn, optim\n",
    "\n",
    "from ignite.engine import (Events, \n",
    "                           create_supervised_trainer,\n",
    "                           create_supervised_evaluator)\n",
    "from ignite.metrics import Accuracy\n",
    "\n",
    "from torchvision.datasets import MNIST\n",
    "from torchvision import transforms\n",
    "from torch.utils.data import DataLoader"
   ]
  },
  {
   "cell_type": "markdown",
   "metadata": {},
   "source": [
    "## load data"
   ]
  },
  {
   "cell_type": "code",
   "execution_count": 2,
   "metadata": {},
   "outputs": [],
   "source": [
    "trans = transforms.Compose([\n",
    "    transforms.ToTensor()\n",
    "])\n",
    "\n",
    "dataset = MNIST(\"../datasets/mnist/\", transform=trans) #, download=True)\n",
    "dataload = DataLoader(dataset, batch_size=300, shuffle=True)"
   ]
  },
  {
   "cell_type": "code",
   "execution_count": 3,
   "metadata": {},
   "outputs": [
    {
     "data": {
      "text/plain": [
       "torch.Size([1, 28, 28])"
      ]
     },
     "execution_count": 3,
     "metadata": {},
     "output_type": "execute_result"
    },
    {
     "data": {
      "image/png": "[encoded data removed]",
      "text/plain": [
       "<Figure size 504x504 with 1 Axes>"
      ]
     },
     "metadata": {
      "needs_background": "light"
     },
     "output_type": "display_data"
    }
   ],
   "source": [
    "figsize(7, 7)\n",
    "matshow(dataset[9][0].detach().numpy()[0], cmap=cm.gray)\n",
    "dataset[9][0].shape"
   ]
  },
  {
   "cell_type": "markdown",
   "metadata": {},
   "source": [
    "## montando a rede neural"
   ]
  },
  {
   "cell_type": "code",
   "execution_count": 4,
   "metadata": {},
   "outputs": [],
   "source": [
    "class NeuralNet(nn.Module):\n",
    "    def __init__(self, input_size, hidden_size, output_size):\n",
    "        super(NeuralNet, self).__init__()\n",
    "        \n",
    "        self.conv0 = nn.Sequential(\n",
    "            nn.Conv2d(1, 8, 5),\n",
    "            nn.ReLU()\n",
    "        )\n",
    "        \n",
    "        self.l1 = nn.Linear(input_size, hidden_size)\n",
    "        self.l2 = nn.Linear(hidden_size, hidden_size)\n",
    "        self.l3 = nn.Linear(hidden_size, output_size)\n",
    "        self.out = nn.Tanh()\n",
    "        \n",
    "    def forward(self, x):\n",
    "        \n",
    "        x = nn.functional.max_pool2d(self.conv0(x), kernel_size=5)\n",
    "#         x = self.conv1(x)\n",
    "\n",
    "        x = x.view(x.shape[0], -1)\n",
    "        \n",
    "        x =  self.l1(x)\n",
    "        x =  self.l2(x)\n",
    "        x =  self.l3(x)\n",
    "        \n",
    "        return self.out(x)"
   ]
  },
  {
   "cell_type": "code",
   "execution_count": 5,
   "metadata": {},
   "outputs": [
    {
     "data": {
      "text/plain": [
       "NeuralNet(\n",
       "  (conv0): Sequential(\n",
       "    (0): Conv2d(1, 8, kernel_size=(5, 5), stride=(1, 1))\n",
       "    (1): ReLU()\n",
       "  )\n",
       "  (l1): Linear(in_features=128, out_features=256, bias=True)\n",
       "  (l2): Linear(in_features=256, out_features=256, bias=True)\n",
       "  (l3): Linear(in_features=256, out_features=10, bias=True)\n",
       "  (out): Tanh()\n",
       ")"
      ]
     },
     "execution_count": 5,
     "metadata": {},
     "output_type": "execute_result"
    }
   ],
   "source": [
    "net = NeuralNet(128, 256, 10)\n",
    "net"
   ]
  },
  {
   "cell_type": "code",
   "execution_count": 6,
   "metadata": {},
   "outputs": [
    {
     "name": "stdout",
     "output_type": "stream",
     "text": [
      "previsto:  tensor(2)\n",
      "esperado:  tensor(9)\n"
     ]
    }
   ],
   "source": [
    "test = next(iter(dataload))\n",
    "print(\"previsto: \", net(test[0])[0].argmax())\n",
    "print(\"esperado: \", test[1][0])\n",
    "del test"
   ]
  },
  {
   "cell_type": "markdown",
   "metadata": {},
   "source": [
    "## treinamento"
   ]
  },
  {
   "cell_type": "code",
   "execution_count": 7,
   "metadata": {},
   "outputs": [],
   "source": [
    "epochs = 10\n",
    "learning_rate = 0.0001\n",
    "\n",
    "criterion = nn.CrossEntropyLoss()\n",
    "optimizer = optim.Adam(net.parameters(), lr=learning_rate)\n",
    "\n",
    "trainer = create_supervised_trainer(\n",
    "    net, optimizer, criterion\n",
    ")\n",
    "\n",
    "evaluator = create_supervised_evaluator(\n",
    "    net, metrics={\"accuracy\": Accuracy()}\n",
    ")"
   ]
  },
  {
   "cell_type": "code",
   "execution_count": 8,
   "metadata": {},
   "outputs": [],
   "source": [
    "@trainer.on(Events.STARTED)\n",
    "def init_log(trainer):\n",
    "    trainer._losses = []\n",
    "    trainer._accuracy = []\n",
    "\n",
    "\n",
    "@trainer.on(Events.EPOCH_COMPLETED)\n",
    "def epoch_log(trainer):\n",
    "    evaluator.run(dataload)\n",
    "    metrics = evaluator.state.metrics\n",
    "\n",
    "    trainer._losses.append(\n",
    "        trainer.state.output\n",
    "    )\n",
    "    trainer._accuracy.append(\n",
    "        metrics[\"accuracy\"]\n",
    "    )\n",
    "    \n",
    "    if trainer.state.epoch % 1 == 0:\n",
    "        print(f\"epoch: {trainer.state.epoch:<2} | \" + \\\n",
    "              f\"accuracy: {metrics['accuracy']:.2f} | \" + \\\n",
    "              f\"loss: {trainer.state.output:.2f}\")\n",
    "              \n",
    "@trainer.on(Events.COMPLETED)\n",
    "def save_onnx(trainer):\n",
    "    print(\"-\"*80)\n",
    "    filename = \"netconv.onnx\"\n",
    "    torch.onnx.export(net, torch.randn(1, 1, 28, 28),\n",
    "                      filename,\n",
    "                      input_names = [ \"input_1\" ] + [ \"learned_%d\" % i for i in range(8) ],\n",
    "                      output_names = [\"output\"],\n",
    "                      export_params=True, verbose=True)\n",
    "    print(\"-\"*80)\n",
    "    print(f\"{filename} save!!!\")"
   ]
  },
  {
   "cell_type": "code",
   "execution_count": 9,
   "metadata": {},
   "outputs": [
    {
     "name": "stdout",
     "output_type": "stream",
     "text": [
      "epoch: 1  | accuracy: 0.78 | loss: 1.44\n",
      "epoch: 2  | accuracy: 0.87 | loss: 1.17\n",
      "epoch: 3  | accuracy: 0.90 | loss: 1.07\n",
      "epoch: 4  | accuracy: 0.92 | loss: 1.02\n",
      "epoch: 5  | accuracy: 0.92 | loss: 1.01\n",
      "--------------------------------------------------------------------------------\n",
      "graph(%input_1 : Float(1, 1, 28, 28)\n",
      "      %learned_0 : Float(8, 1, 5, 5)\n",
      "      %learned_1 : Float(8)\n",
      "      %learned_2 : Float(256, 128)\n",
      "      %learned_3 : Float(256)\n",
      "      %learned_4 : Float(256, 256)\n",
      "      %learned_5 : Float(256)\n",
      "      %learned_6 : Float(10, 256)\n",
      "      %learned_7 : Float(10)) {\n",
      "  %9 : Float(1, 8, 24, 24) = onnx::Conv[dilations=[1, 1], group=1, kernel_shape=[5, 5], pads=[0, 0, 0, 0], strides=[1, 1]](%input_1, %learned_0, %learned_1), scope: NeuralNet/Sequential[conv0]/Conv2d[0]\n",
      "  %10 : Float(1, 8, 24, 24) = onnx::Relu(%9), scope: NeuralNet/Sequential[conv0]/ReLU[1]\n",
      "  %11 : Float(1, 8, 4, 4) = onnx::MaxPool[kernel_shape=[5, 5], pads=[0, 0, 0, 0], strides=[5, 5]](%10), scope: NeuralNet\n",
      "  %12 : Long() = onnx::Constant[value={0}](), scope: NeuralNet\n",
      "  %13 : Tensor = onnx::Shape(%11), scope: NeuralNet\n",
      "  %14 : Long() = onnx::Gather[axis=0](%13, %12), scope: NeuralNet\n",
      "  %15 : Long() = onnx::Constant[value={-1}](), scope: NeuralNet\n",
      "  %16 : Tensor = onnx::Unsqueeze[axes=[0]](%14)\n",
      "  %17 : Tensor = onnx::Unsqueeze[axes=[0]](%15)\n",
      "  %18 : Tensor = onnx::Concat[axis=0](%16, %17)\n",
      "  %19 : Float(1, 128) = onnx::Reshape(%11, %18), scope: NeuralNet\n",
      "  %20 : Float(1, 256) = onnx::Gemm[alpha=1, beta=1, transB=1](%19, %learned_2, %learned_3), scope: NeuralNet/Linear[l1]\n",
      "  %21 : Float(1, 256) = onnx::Gemm[alpha=1, beta=1, transB=1](%20, %learned_4, %learned_5), scope: NeuralNet/Linear[l1]\n",
      "  %22 : Float(1, 10) = onnx::Gemm[alpha=1, beta=1, transB=1](%21, %learned_6, %learned_7), scope: NeuralNet/Linear[l1]\n",
      "  %output : Float(1, 10) = onnx::Tanh(%22), scope: NeuralNet/Tanh[out]\n",
      "  return (%output);\n",
      "}\n",
      "\n",
      "--------------------------------------------------------------------------------\n",
      "netconv.onnx save!!!\n"
     ]
    }
   ],
   "source": [
    "final_state = trainer.run(dataload, max_epochs=5)"
   ]
  },
  {
   "cell_type": "code",
   "execution_count": 10,
   "metadata": {},
   "outputs": [
    {
     "data": {
      "text/plain": [
       "<matplotlib.legend.Legend at 0x7ff1ddb08588>"
      ]
     },
     "execution_count": 10,
     "metadata": {},
     "output_type": "execute_result"
    },
    {
     "data": {
      "image/png": "[encoded data removed]",
      "text/plain": [
       "<Figure size 1008x576 with 1 Axes>"
      ]
     },
     "metadata": {
      "needs_background": "light"
     },
     "output_type": "display_data"
    }
   ],
   "source": [
    "fig, ax = subplots(figsize=(14, 8))\n",
    "ax.plot(trainer._losses, label=\"loss\")\n",
    "ax.plot(trainer._accuracy, label=\"accuracy\")\n",
    "ax.legend()"
   ]
  },
  {
   "cell_type": "markdown",
   "metadata": {},
   "source": [
    "## coisas para comparar com a importação"
   ]
  },
  {
   "cell_type": "code",
   "execution_count": 12,
   "metadata": {},
   "outputs": [
    {
     "data": {
      "text/plain": [
       "'1.0.0'"
      ]
     },
     "execution_count": 12,
     "metadata": {},
     "output_type": "execute_result"
    }
   ],
   "source": [
    "torch.__version__"
   ]
  },
  {
   "cell_type": "code",
   "execution_count": 17,
   "metadata": {},
   "outputs": [
    {
     "data": {
      "text/plain": [
       "torch.Size([1, 28, 28])"
      ]
     },
     "execution_count": 17,
     "metadata": {},
     "output_type": "execute_result"
    },
    {
     "data": {
      "image/png": "[encoded data removed]",
      "text/plain": [
       "<Figure size 504x504 with 1 Axes>"
      ]
     },
     "metadata": {
      "needs_background": "light"
     },
     "output_type": "display_data"
    }
   ],
   "source": [
    "n = 554\n",
    "matshow(dataset[n][0].reshape(28, 28), cmap=cm.gray)\n",
    "plt.title(f\"valor esperado: {dataset[n][1]}\")\n",
    "dataset[n][0].shape"
   ]
  },
  {
   "cell_type": "code",
   "execution_count": 18,
   "metadata": {},
   "outputs": [
    {
     "name": "stdout",
     "output_type": "stream",
     "text": [
      "CPU times: user 3 µs, sys: 3 µs, total: 6 µs\n",
      "Wall time: 15.3 µs\n"
     ]
    }
   ],
   "source": [
    "%time\n",
    "out = net(dataset[n][0].view(1, 1, 28, 28))"
   ]
  },
  {
   "cell_type": "code",
   "execution_count": 19,
   "metadata": {},
   "outputs": [
    {
     "name": "stdout",
     "output_type": "stream",
     "text": [
      "tensor([[-0.9988, -1.0000, -1.0000, -0.9982, -0.9999,  0.0411, -0.9995, -0.9998,\n",
      "         -0.9850, -0.9904]], grad_fn=<TanhBackward>)\n",
      "5\n"
     ]
    }
   ],
   "source": [
    "print(out)\n",
    "print(out.argmax().item())"
   ]
  },
  {
   "cell_type": "code",
   "execution_count": 23,
   "metadata": {},
   "outputs": [
    {
     "name": "stdout",
     "output_type": "stream",
     "text": [
      "1.67 ms ± 83.7 µs per loop (mean ± std. dev. of 7 runs, 1000 loops each)\n"
     ]
    }
   ],
   "source": [
    "%%timeit\n",
    "m = np.random.randint(6000)\n",
    "net(dataset[m][0].view(1, 1, 28, 28));"
   ]
  }
 ],
 "metadata": {
  "kernelspec": {
   "display_name": "Python 3",
   "language": "python",
   "name": "python3"
  },
  "language_info": {
   "codemirror_mode": {
    "name": "ipython",
    "version": 3
   },
   "file_extension": ".py",
   "mimetype": "text/x-python",
   "name": "python",
   "nbconvert_exporter": "python",
   "pygments_lexer": "ipython3",
   "version": "3.7.2"
  }
 },
 "nbformat": 4,
 "nbformat_minor": 2
}
