{
 "cells": [
  {
   "cell_type": "markdown",
   "metadata": {
    "slideshow": {
     "slide_type": "slide"
    }
   },
   "source": [
    "# [ONNX](http://onnx.ai/)"
   ]
  },
  {
   "cell_type": "markdown",
   "metadata": {
    "slideshow": {
     "slide_type": "slide"
    }
   },
   "source": [
    "## Origem:\n",
    "\n",
    "(09/2017) [Facebook](https://research.fb.com/facebook-and-microsoft-introduce-new-open-ecosystem-for-interchangeable-ai-frameworks/) + [Microsoft](https://www.microsoft.com/en-us/cognitive-toolkit/blog/2017/09/microsoft-facebook-create-open-ecosystem-ai-model-interoperability/) = ONNX\n",
    "\n",
    "## O que é\n",
    "\n",
    "Ecossistema com foco na interoperabilidade entre frameworks voltadas para machine learning\n",
    "\n",
    "## Como funciona\n",
    "\n",
    "Basicamente é uma aplicação do [protobuf](https://github.com/protocolbuffers/protobuf)"
   ]
  },
  {
   "cell_type": "markdown",
   "metadata": {
    "slideshow": {
     "slide_type": "slide"
    }
   },
   "source": [
    "[![](tabela_onnx_support.png)](https://github.com/onnx/tutorials/)"
   ]
  },
  {
   "cell_type": "markdown",
   "metadata": {
    "slideshow": {
     "slide_type": "subslide"
    }
   },
   "source": [
    "## alguns projetos não listados\n",
    "\n",
    "* https://github.com/onnx/onnxmltools (listado mas queria lembrar do link)\n",
    "* https://github.com/Microsoft/onnxjs\n",
    "* https://github.com/chaosmail/tfjs-onnx\n",
    "* https://github.com/NervanaSystems/ngraph-onnx ([ngraph](https://github.com/NervanaSystems/ngraph))\n",
    "* https://github.com/FluxML/ONNX.jl\n",
    "* https://github.com/onnx/onnx-r\n",
    "* https://github.com/owulveryck/onnx-go\n",
    "* https://github.com/EmergentOrder/onnx-scala"
   ]
  },
  {
   "cell_type": "markdown",
   "metadata": {
    "slideshow": {
     "slide_type": "slide"
    }
   },
   "source": [
    "## Limitações\n",
    "\n",
    "* documentação ainda ineficiente\n",
    "* redes importadas: apenas leitura\n",
    "* muita variação nos recursos acessíveis a cada framework\n",
    "* exportação funciona melhor que importação\n",
    "* acervo ainda pequeno de redes pré-treinadas ([model zoo](https://github.com/onnx/models))"
   ]
  },
  {
   "cell_type": "markdown",
   "metadata": {
    "slideshow": {
     "slide_type": "subslide"
    }
   },
   "source": [
    "## vantagens\n",
    "\n",
    "* permite visualizar a rede neural mesmo criada em frameworks que não dispôe desse recurso\n",
    "* treinar um algoritmo apenas 1 vez para rodar em qualquer plataforma\n",
    "* poder executar em diferentes frameworks, e alguma linguagens mesmo sem ter domínio delas"
   ]
  }
 ],
 "metadata": {
  "kernelspec": {
   "display_name": "Python 3",
   "language": "python",
   "name": "python3"
  },
  "language_info": {
   "codemirror_mode": {
    "name": "ipython",
    "version": 3
   },
   "file_extension": ".py",
   "mimetype": "text/x-python",
   "name": "python",
   "nbconvert_exporter": "python",
   "pygments_lexer": "ipython3",
   "version": "3.7.2"
  }
 },
 "nbformat": 4,
 "nbformat_minor": 2
}
