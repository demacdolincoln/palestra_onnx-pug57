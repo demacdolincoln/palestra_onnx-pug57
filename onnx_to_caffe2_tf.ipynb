{
 "cells": [
  {
   "cell_type": "code",
   "execution_count": 1,
   "metadata": {},
   "outputs": [
    {
     "name": "stdout",
     "output_type": "stream",
     "text": [
      "Populating the interactive namespace from numpy and matplotlib\n"
     ]
    },
    {
     "name": "stderr",
     "output_type": "stream",
     "text": [
      "WARNING:root:This caffe2 python run does not have GPU support. Will run in CPU only mode.\n"
     ]
    }
   ],
   "source": [
    "%pylab inline\n",
    "\n",
    "import warnings\n",
    "warnings.filterwarnings('ignore')\n",
    "\n",
    "import onnx\n",
    "from onnx_tf import backend as tf_backend\n",
    "from caffe2.python.onnx import backend as caffe2_backend\n",
    "from caffe2.python import workspace as caffe2_workspace"
   ]
  },
  {
   "cell_type": "code",
   "execution_count": 19,
   "metadata": {},
   "outputs": [
    {
     "data": {
      "text/plain": [
       "'1.0.0a0+db5d313'"
      ]
     },
     "execution_count": 19,
     "metadata": {},
     "output_type": "execute_result"
    }
   ],
   "source": [
    "import torch\n",
    "torch.__version__"
   ]
  },
  {
   "cell_type": "code",
   "execution_count": 2,
   "metadata": {},
   "outputs": [],
   "source": [
    "from torchvision import transforms\n",
    "from torchvision.datasets import MNIST"
   ]
  },
  {
   "cell_type": "code",
   "execution_count": 3,
   "metadata": {},
   "outputs": [],
   "source": [
    "trans = transforms.Compose([\n",
    "    transforms.Lambda(\n",
    "        lambda x: np.asarray(x, dtype=np.float32).reshape(1, 1, 28, 28)\n",
    "    )\n",
    "])\n",
    "dataset = MNIST(\"../datasets/mnist/\", transform=trans)"
   ]
  },
  {
   "cell_type": "code",
   "execution_count": 4,
   "metadata": {},
   "outputs": [
    {
     "data": {
      "text/plain": [
       "(1, 1, 28, 28)"
      ]
     },
     "execution_count": 4,
     "metadata": {},
     "output_type": "execute_result"
    },
    {
     "data": {
      "image/png": "[encoded data removed]",
      "text/plain": [
       "<Figure size 504x504 with 1 Axes>"
      ]
     },
     "metadata": {
      "needs_background": "light"
     },
     "output_type": "display_data"
    }
   ],
   "source": [
    "figsize(7, 7)\n",
    "n = 554\n",
    "matshow(dataset[n][0].reshape(28, 28), cmap=cm.gray)\n",
    "plt.title(f\"valor esperado: {dataset[n][1]}\")\n",
    "dataset[n][0].shape"
   ]
  },
  {
   "cell_type": "code",
   "execution_count": 5,
   "metadata": {},
   "outputs": [
    {
     "name": "stdout",
     "output_type": "stream",
     "text": [
      "graph torch-jit-export (\n",
      "  %input_1[FLOAT, 1x1x28x28]\n",
      ") initializers (\n",
      "  %learned_0[FLOAT, 8x1x5x5]\n",
      "  %learned_1[FLOAT, 8]\n",
      "  %learned_2[FLOAT, 256x128]\n",
      "  %learned_3[FLOAT, 256]\n",
      "  %learned_4[FLOAT, 256x256]\n",
      "  %learned_5[FLOAT, 256]\n",
      "  %learned_6[FLOAT, 10x256]\n",
      "  %learned_7[FLOAT, 10]\n",
      ") {\n",
      "  %9 = Conv[dilations = [1, 1], group = 1, kernel_shape = [5, 5], pads = [0, 0, 0, 0], strides = [1, 1]](%input_1, %learned_0, %learned_1)\n",
      "  %10 = Relu(%9)\n",
      "  %11 = MaxPool[kernel_shape = [5, 5], pads = [0, 0, 0, 0], strides = [5, 5]](%10)\n",
      "  %12 = Constant[value = <Scalar Tensor []>]()\n",
      "  %13 = Shape(%11)\n",
      "  %14 = Gather[axis = 0](%13, %12)\n",
      "  %15 = Constant[value = <Scalar Tensor []>]()\n",
      "  %16 = Unsqueeze[axes = [0]](%14)\n",
      "  %17 = Unsqueeze[axes = [0]](%15)\n",
      "  %18 = Concat[axis = 0](%16, %17)\n",
      "  %19 = Reshape(%11, %18)\n",
      "  %20 = Gemm[alpha = 1, beta = 1, transB = 1](%19, %learned_2, %learned_3)\n",
      "  %21 = Gemm[alpha = 1, beta = 1, transB = 1](%20, %learned_4, %learned_5)\n",
      "  %22 = Gemm[alpha = 1, beta = 1, transB = 1](%21, %learned_6, %learned_7)\n",
      "  %output = Tanh(%22)\n",
      "  return %output\n",
      "}\n"
     ]
    }
   ],
   "source": [
    "model = onnx.load(\"netconv.onnx\")\n",
    "\n",
    "print(onnx.helper.printable_graph(model.graph))"
   ]
  },
  {
   "cell_type": "code",
   "execution_count": 29,
   "metadata": {},
   "outputs": [],
   "source": [
    "%%bash \n",
    "\n",
    "python3 /usr/lib/python3.7/site-packages/onnx/tools/net_drawer.py --input netconv.onnx --output convnet.dot\n",
    "\n",
    "dot -Grankdir=LR -Tpng convnet.dot -o netconv.png\n",
    "dot -Grankdir=TB -Tpng convnet.dot -o netconv_top-botton.png"
   ]
  },
  {
   "cell_type": "markdown",
   "metadata": {},
   "source": [
    "![](netconv.png)"
   ]
  },
  {
   "cell_type": "code",
   "execution_count": 6,
   "metadata": {},
   "outputs": [
    {
     "name": "stdout",
     "output_type": "stream",
     "text": [
      "WARNING:tensorflow:From /usr/lib/python3.7/site-packages/onnx_tf/handlers/backend/reshape.py:31: sparse_to_dense (from tensorflow.python.ops.sparse_ops) is deprecated and will be removed in a future version.\n",
      "Instructions for updating:\n",
      "Create a `tf.sparse.SparseTensor` and use `tf.sparse.to_dense` instead.\n"
     ]
    },
    {
     "name": "stderr",
     "output_type": "stream",
     "text": [
      "WARNING:tensorflow:From /usr/lib/python3.7/site-packages/onnx_tf/handlers/backend/reshape.py:31: sparse_to_dense (from tensorflow.python.ops.sparse_ops) is deprecated and will be removed in a future version.\n",
      "Instructions for updating:\n",
      "Create a `tf.sparse.SparseTensor` and use `tf.sparse.to_dense` instead.\n"
     ]
    }
   ],
   "source": [
    "tf_model = tf_backend.prepare(model)"
   ]
  },
  {
   "cell_type": "code",
   "execution_count": 7,
   "metadata": {},
   "outputs": [
    {
     "name": "stdout",
     "output_type": "stream",
     "text": [
      "CPU times: user 94 ms, sys: 10.2 ms, total: 104 ms\n",
      "Wall time: 1.17 s\n"
     ]
    }
   ],
   "source": [
    "%%time\n",
    "out = tf_model.run(dataset[n][0])"
   ]
  },
  {
   "cell_type": "code",
   "execution_count": 8,
   "metadata": {},
   "outputs": [
    {
     "name": "stdout",
     "output_type": "stream",
     "text": [
      "Outputs(output=array([[-1., -1., -1., -1., -1., -1., -1., -1., -1., -1.]], dtype=float32))\n",
      "previsão: 0\n"
     ]
    }
   ],
   "source": [
    "print(out)\n",
    "print(f\"previsão: {out.output.argmax()}\")"
   ]
  },
  {
   "cell_type": "code",
   "execution_count": 9,
   "metadata": {},
   "outputs": [],
   "source": [
    "cf_model = caffe2_backend.prepare(model)"
   ]
  },
  {
   "cell_type": "code",
   "execution_count": 20,
   "metadata": {},
   "outputs": [
    {
     "name": "stdout",
     "output_type": "stream",
     "text": [
      "CPU times: user 5.39 ms, sys: 139 µs, total: 5.53 ms\n",
      "Wall time: 5.12 ms\n"
     ]
    }
   ],
   "source": [
    "%%time\n",
    "# m = np.random.randint(6000)\n",
    "out = cf_model.run(dataset[n][0])"
   ]
  },
  {
   "cell_type": "code",
   "execution_count": 11,
   "metadata": {},
   "outputs": [
    {
     "name": "stdout",
     "output_type": "stream",
     "text": [
      "Outputs(output=array([[-1., -1., -1., -1., -1., -1., -1., -1., -1., -1.]], dtype=float32))\n",
      "previsão: 0\n"
     ]
    }
   ],
   "source": [
    "print(out)\n",
    "print(f\"previsão: {out.output.argmax()}\")"
   ]
  },
  {
   "cell_type": "code",
   "execution_count": 12,
   "metadata": {},
   "outputs": [
    {
     "name": "stdout",
     "output_type": "stream",
     "text": [
      "CPU times: user 46.4 ms, sys: 212 µs, total: 46.6 ms\n",
      "Wall time: 225 ms\n"
     ]
    }
   ],
   "source": [
    "%%time\n",
    "out = caffe2_backend.run_model(model, dataset[n][0])"
   ]
  },
  {
   "cell_type": "code",
   "execution_count": 13,
   "metadata": {},
   "outputs": [
    {
     "name": "stdout",
     "output_type": "stream",
     "text": [
      "Outputs(output=array([[-1., -1., -1., -1., -1., -1., -1., -1., -1., -1.]], dtype=float32))\n",
      "previsão: 0\n"
     ]
    }
   ],
   "source": [
    "print(out)\n",
    "print(f\"previsão: {out.output.argmax()}\")"
   ]
  },
  {
   "cell_type": "code",
   "execution_count": 14,
   "metadata": {},
   "outputs": [],
   "source": [
    "init_net, predict_net = caffe2_backend.Caffe2Backend.onnx_graph_to_caffe2_net(model)\n",
    "p = caffe2_workspace.Predictor(init_net, predict_net)"
   ]
  },
  {
   "cell_type": "code",
   "execution_count": 16,
   "metadata": {},
   "outputs": [
    {
     "name": "stdout",
     "output_type": "stream",
     "text": [
      "CPU times: user 1.24 ms, sys: 0 ns, total: 1.24 ms\n",
      "Wall time: 1.2 ms\n"
     ]
    }
   ],
   "source": [
    "%%time\n",
    "out = p.run(dataset[n][0].reshape(1, 1, 1, 28, 28))"
   ]
  },
  {
   "cell_type": "code",
   "execution_count": 17,
   "metadata": {},
   "outputs": [
    {
     "name": "stdout",
     "output_type": "stream",
     "text": [
      "[array([[-1., -1., -1., -1., -1., -1., -1., -1., -1., -1.]], dtype=float32)]\n",
      "previsão: 0\n"
     ]
    }
   ],
   "source": [
    "print(out)\n",
    "print(f\"previsão: {out[0].argmax()}\")"
   ]
  },
  {
   "cell_type": "code",
   "execution_count": 18,
   "metadata": {},
   "outputs": [
    {
     "data": {
      "text/plain": [
       "('torch-jit-export_init', 'torch-jit-export_predict')"
      ]
     },
     "execution_count": 18,
     "metadata": {},
     "output_type": "execute_result"
    }
   ],
   "source": [
    "init_net.name, predict_net.name"
   ]
  },
  {
   "cell_type": "code",
   "execution_count": 21,
   "metadata": {},
   "outputs": [
    {
     "name": "stdout",
     "output_type": "stream",
     "text": [
      "55.3 ms ± 2.16 ms per loop (mean ± std. dev. of 7 runs, 10 loops each)\n"
     ]
    }
   ],
   "source": [
    "%%timeit\n",
    "m = np.random.randint(6000)\n",
    "out = tf_model.run(dataset[m][0])"
   ]
  },
  {
   "cell_type": "code",
   "execution_count": 22,
   "metadata": {},
   "outputs": [
    {
     "name": "stdout",
     "output_type": "stream",
     "text": [
      "683 µs ± 23.7 µs per loop (mean ± std. dev. of 7 runs, 1000 loops each)\n"
     ]
    }
   ],
   "source": [
    "%%timeit\n",
    "m = np.random.randint(6000)\n",
    "out = cf_model.run(dataset[m][0])"
   ]
  },
  {
   "cell_type": "code",
   "execution_count": 23,
   "metadata": {},
   "outputs": [
    {
     "name": "stdout",
     "output_type": "stream",
     "text": [
      "16.3 ms ± 195 µs per loop (mean ± std. dev. of 7 runs, 100 loops each)\n"
     ]
    }
   ],
   "source": [
    "%%timeit\n",
    "m = np.random.randint(6000)\n",
    "out = caffe2_backend.run_model(model, dataset[m][0])"
   ]
  },
  {
   "cell_type": "code",
   "execution_count": 24,
   "metadata": {},
   "outputs": [
    {
     "name": "stdout",
     "output_type": "stream",
     "text": [
      "393 µs ± 26.1 µs per loop (mean ± std. dev. of 7 runs, 1000 loops each)\n"
     ]
    }
   ],
   "source": [
    "%%timeit\n",
    "m = np.random.randint(6000)\n",
    "out = p.run(dataset[m][0].reshape(1, 1, 1, 28, 28))"
   ]
  }
 ],
 "metadata": {
  "kernelspec": {
   "display_name": "Python 3",
   "language": "python",
   "name": "python3"
  },
  "language_info": {
   "codemirror_mode": {
    "name": "ipython",
    "version": 3
   },
   "file_extension": ".py",
   "mimetype": "text/x-python",
   "name": "python",
   "nbconvert_exporter": "python",
   "pygments_lexer": "ipython3",
   "version": "3.7.2"
  }
 },
 "nbformat": 4,
 "nbformat_minor": 2
}
